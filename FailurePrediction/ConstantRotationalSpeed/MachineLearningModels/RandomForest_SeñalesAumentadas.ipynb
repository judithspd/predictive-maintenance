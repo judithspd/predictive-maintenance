{
 "cells": [
  {
   "cell_type": "markdown",
   "id": "worth-conversion",
   "metadata": {},
   "source": [
    "### Random forest applied to CWRU signals after data augmentation."
   ]
  },
  {
   "cell_type": "code",
   "execution_count": 1,
   "id": "indoor-printer",
   "metadata": {},
   "outputs": [],
   "source": [
    "import pandas as pd\n",
    "import numpy as np\n",
    "import matplotlib.pyplot as plt\n",
    "from matplotlib.colors import ListedColormap\n",
    "import matplotlib.patches as mpatches\n",
    "from sklearn.model_selection import train_test_split\n",
    "from sklearn.metrics import classification_report\n",
    "from sklearn.metrics import confusion_matrix\n",
    "from sklearn.ensemble import RandomForestClassifier"
   ]
  },
  {
   "cell_type": "code",
   "execution_count": 2,
   "id": "blind-chest",
   "metadata": {},
   "outputs": [],
   "source": [
    "df_completo = pd.read_csv(\"./Data/estadisticosDatosAumentadosCWRU.csv\" , sep = ',')"
   ]
  },
  {
   "cell_type": "code",
   "execution_count": 3,
   "id": "starting-smart",
   "metadata": {},
   "outputs": [],
   "source": [
    "X = df_completo[['Kurtosis', 'Impulse factor', 'RMS', 'Margin factor', 'Skewness',\n",
    "               'Shape factor', 'Peak to peak', 'Crest factor']].values\n",
    "y = df_completo['Tipo'].values"
   ]
  },
  {
   "cell_type": "code",
   "execution_count": 4,
   "id": "collective-record",
   "metadata": {},
   "outputs": [],
   "source": [
    "X_train, X_test, y_train, y_test = train_test_split(X, y, test_size = 0.25, train_size = 0.75, random_state=0, stratify = y)"
   ]
  },
  {
   "cell_type": "code",
   "execution_count": 5,
   "id": "august-production",
   "metadata": {},
   "outputs": [
    {
     "name": "stdout",
     "output_type": "stream",
     "text": [
      "----- n trees: 1----- Accuracy test: 1.0-----\n",
      "----- n trees: 10----- Accuracy test: 1.0-----\n",
      "----- n trees: 20----- Accuracy test: 1.0-----\n",
      "----- n trees: 30----- Accuracy test: 1.0-----\n",
      "----- n trees: 40----- Accuracy test: 1.0-----\n",
      "----- n trees: 50----- Accuracy test: 1.0-----\n",
      "----- n trees: 60----- Accuracy test: 1.0-----\n",
      "----- n trees: 70----- Accuracy test: 1.0-----\n",
      "----- n trees: 80----- Accuracy test: 1.0-----\n",
      "----- n trees: 90----- Accuracy test: 1.0-----\n",
      "----- n trees: 100----- Accuracy test: 1.0-----\n"
     ]
    }
   ],
   "source": [
    "arr_estimators = range(1, 101)\n",
    "scores_train = []\n",
    "scores_test = []\n",
    "for i in arr_estimators:\n",
    "    randomForest = RandomForestClassifier(random_state=0, n_estimators = i, min_samples_split = 2, min_samples_leaf  = 1)\n",
    "    randomForest.fit(X_train, y_train)\n",
    "    scores_train.append(randomForest.score(X_train, y_train))\n",
    "    scores_test.append(randomForest.score(X_test, y_test))\n",
    "    if (i % 10 == 0 or i == 1):\n",
    "        print('----- n trees: ' + str(i) + '----- Accuracy test: ' + str(scores_test[i - 1]) + '-----')"
   ]
  },
  {
   "cell_type": "code",
   "execution_count": 6,
   "id": "outside-server",
   "metadata": {},
   "outputs": [
    {
     "data": {
      "text/plain": [
       "<matplotlib.legend.Legend at 0x1b860b3abe0>"
      ]
     },
     "execution_count": 6,
     "metadata": {},
     "output_type": "execute_result"
    },
    {
     "data": {
      "image/png": "[encoded data removed]",
      "text/plain": [
       "<Figure size 432x288 with 1 Axes>"
      ]
     },
     "metadata": {
      "needs_background": "light"
     },
     "output_type": "display_data"
    }
   ],
   "source": [
    "plt.figure()\n",
    "plt.xlabel('n_trees')\n",
    "plt.ylabel('Accuracy')\n",
    "plt.plot(arr_estimators, scores_train, label = 'Train')\n",
    "plt.plot(arr_estimators, scores_test, label = 'Test')\n",
    "plt.legend()"
   ]
  },
  {
   "cell_type": "code",
   "execution_count": 7,
   "id": "balanced-adoption",
   "metadata": {},
   "outputs": [
    {
     "data": {
      "text/plain": [
       "RandomForestClassifier(n_estimators=20, random_state=0)"
      ]
     },
     "execution_count": 7,
     "metadata": {},
     "output_type": "execute_result"
    }
   ],
   "source": [
    "randomForest = RandomForestClassifier(random_state=0, n_estimators = 20, min_samples_split = 2, min_samples_leaf  = 1)\n",
    "randomForest.fit(X_train, y_train)"
   ]
  },
  {
   "cell_type": "code",
   "execution_count": 8,
   "id": "physical-exemption",
   "metadata": {},
   "outputs": [
    {
     "name": "stdout",
     "output_type": "stream",
     "text": [
      "[[33  0  0]\n",
      " [ 0 33  0]\n",
      " [ 0  0 11]]\n",
      "              precision    recall  f1-score   support\n",
      "\n",
      "       Inner       1.00      1.00      1.00        33\n",
      "       Outer       1.00      1.00      1.00        33\n",
      "     Healthy       1.00      1.00      1.00        11\n",
      "\n",
      "    accuracy                           1.00        77\n",
      "   macro avg       1.00      1.00      1.00        77\n",
      "weighted avg       1.00      1.00      1.00        77\n",
      "\n"
     ]
    }
   ],
   "source": [
    "target_names = ['Inner', 'Outer', 'Healthy']\n",
    "pred = randomForest.predict(X_test)\n",
    "print(confusion_matrix(y_test, pred))\n",
    "print(classification_report(y_test, pred, target_names = target_names))"
   ]
  },
  {
   "cell_type": "code",
   "execution_count": 9,
   "id": "spanish-tuition",
   "metadata": {},
   "outputs": [
    {
     "name": "stdout",
     "output_type": "stream",
     "text": [
      "[[99  0  0]\n",
      " [ 0 99  0]\n",
      " [ 0  0 33]]\n",
      "              precision    recall  f1-score   support\n",
      "\n",
      "       Inner       1.00      1.00      1.00        99\n",
      "       Outer       1.00      1.00      1.00        99\n",
      "     Healthy       1.00      1.00      1.00        33\n",
      "\n",
      "    accuracy                           1.00       231\n",
      "   macro avg       1.00      1.00      1.00       231\n",
      "weighted avg       1.00      1.00      1.00       231\n",
      "\n"
     ]
    }
   ],
   "source": [
    "pred_train = randomForest.predict(X_train)\n",
    "print(confusion_matrix(y_train, pred_train))\n",
    "print(classification_report(y_train, pred_train, target_names = target_names))"
   ]
  }
 ],
 "metadata": {
  "kernelspec": {
   "display_name": "Python 3",
   "language": "python",
   "name": "python3"
  },
  "language_info": {
   "codemirror_mode": {
    "name": "ipython",
    "version": 3
   },
   "file_extension": ".py",
   "mimetype": "text/x-python",
   "name": "python",
   "nbconvert_exporter": "python",
   "pygments_lexer": "ipython3",
   "version": "3.8.5"
  }
 },
 "nbformat": 4,
 "nbformat_minor": 5
}
