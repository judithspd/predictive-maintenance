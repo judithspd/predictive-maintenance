{
 "cells": [
  {
   "cell_type": "markdown",
   "id": "virtual-november",
   "metadata": {},
   "source": [
    "### KNN applied to the initial CWRU signals (before data augmentation)."
   ]
  },
  {
   "cell_type": "code",
   "execution_count": 1,
   "id": "dated-means",
   "metadata": {},
   "outputs": [],
   "source": [
    "import pandas as pd\n",
    "import numpy as np\n",
    "import matplotlib.pyplot as plt\n",
    "from matplotlib.colors import ListedColormap\n",
    "import matplotlib.patches as mpatches\n",
    "from sklearn.model_selection import train_test_split\n",
    "from sklearn.preprocessing import MinMaxScaler\n",
    "from sklearn.neighbors import KNeighborsClassifier\n",
    "from sklearn.metrics import classification_report\n",
    "from sklearn.metrics import confusion_matrix"
   ]
  },
  {
   "cell_type": "code",
   "execution_count": 2,
   "id": "vulnerable-interface",
   "metadata": {},
   "outputs": [],
   "source": [
    "df_completo = pd.read_csv(\"./Data/EstadisticosSeñalesInicialesCWRU.csv\" , sep = ',')"
   ]
  },
  {
   "cell_type": "code",
   "execution_count": 3,
   "id": "superior-ocean",
   "metadata": {},
   "outputs": [],
   "source": [
    "X = df_completo[['Kurtosis', 'Impulse factor', 'RMS', 'Margin factor', 'Skewness',\n",
    "               'Shape factor', 'Peak to peak', 'Crest factor']].values\n",
    "y = df_completo['Tipo'].values"
   ]
  },
  {
   "cell_type": "code",
   "execution_count": 4,
   "id": "human-invasion",
   "metadata": {},
   "outputs": [],
   "source": [
    "X_train, X_test, y_train, y_test = train_test_split(X, y, test_size = 0.25, train_size = 0.75, random_state=0, stratify = y)\n",
    "scaler = MinMaxScaler()\n",
    "# Escalamos los predictores:\n",
    "X_train = scaler.fit_transform(X_train)\n",
    "X_test = scaler.transform(X_test)"
   ]
  },
  {
   "cell_type": "code",
   "execution_count": 5,
   "id": "ordered-cherry",
   "metadata": {},
   "outputs": [
    {
     "name": "stdout",
     "output_type": "stream",
     "text": [
      "----- k: 1----- Accuracy test: 0.8571428571428571-----\n",
      "----- k: 2----- Accuracy test: 0.8571428571428571-----\n",
      "----- k: 3----- Accuracy test: 0.8571428571428571-----\n",
      "----- k: 4----- Accuracy test: 0.5714285714285714-----\n",
      "----- k: 5----- Accuracy test: 0.5714285714285714-----\n",
      "----- k: 6----- Accuracy test: 0.42857142857142855-----\n",
      "----- k: 7----- Accuracy test: 0.42857142857142855-----\n",
      "----- k: 8----- Accuracy test: 0.42857142857142855-----\n",
      "----- k: 9----- Accuracy test: 0.42857142857142855-----\n",
      "----- k: 10----- Accuracy test: 0.42857142857142855-----\n",
      "----- k: 11----- Accuracy test: 0.42857142857142855-----\n",
      "----- k: 12----- Accuracy test: 0.42857142857142855-----\n",
      "----- k: 13----- Accuracy test: 0.2857142857142857-----\n",
      "----- k: 14----- Accuracy test: 0.2857142857142857-----\n",
      "----- k: 15----- Accuracy test: 0.2857142857142857-----\n",
      "----- k: 16----- Accuracy test: 0.42857142857142855-----\n",
      "----- k: 17----- Accuracy test: 0.5714285714285714-----\n",
      "----- k: 18----- Accuracy test: 0.5714285714285714-----\n",
      "----- k: 19----- Accuracy test: 0.42857142857142855-----\n"
     ]
    },
    {
     "data": {
      "text/plain": [
       "<matplotlib.legend.Legend at 0x2398c980e80>"
      ]
     },
     "execution_count": 5,
     "metadata": {},
     "output_type": "execute_result"
    },
    {
     "data": {
      "image/png": "[encoded data removed]",
      "text/plain": [
       "<Figure size 432x288 with 1 Axes>"
      ]
     },
     "metadata": {
      "needs_background": "light"
     },
     "output_type": "display_data"
    }
   ],
   "source": [
    "k_values = range(1, 20)\n",
    "scores_train = []\n",
    "scores_test = []\n",
    "for k in k_values:\n",
    "    knn = KNeighborsClassifier(n_neighbors = k)\n",
    "    knn.fit(X_train, y_train)\n",
    "    scores_train.append(knn.score(X_train, y_train))\n",
    "    scores_test.append(knn.score(X_test, y_test))\n",
    "    print('----- k: ' + str(k) + '----- Accuracy test: ' + str(scores_test[k - 1]) + '-----')\n",
    "plt.figure()\n",
    "plt.xlabel('k')\n",
    "plt.ylabel('Accuracy')\n",
    "plt.plot(k_values, scores_train, label = 'Train')\n",
    "plt.plot(k_values, scores_test, label = 'Test')\n",
    "plt.legend()"
   ]
  },
  {
   "cell_type": "code",
   "execution_count": 6,
   "id": "general-attraction",
   "metadata": {},
   "outputs": [
    {
     "name": "stdout",
     "output_type": "stream",
     "text": [
      "Accuracy en el conjunto de train: 1.000\n",
      "Accuracy en el conjunto de test: 0.857\n"
     ]
    }
   ],
   "source": [
    "n_neighbors = 2\n",
    "classifier = KNeighborsClassifier(n_neighbors)\n",
    "classifier.fit(X_train, y_train)\n",
    "print('Accuracy en el conjunto de train: {:.3f}'\n",
    "     .format(classifier.score(X_train, y_train)))\n",
    "print('Accuracy en el conjunto de test: {:.3f}'\n",
    "     .format(classifier.score(X_test, y_test)))"
   ]
  },
  {
   "cell_type": "code",
   "execution_count": 7,
   "id": "internal-argument",
   "metadata": {},
   "outputs": [
    {
     "name": "stdout",
     "output_type": "stream",
     "text": [
      "[[3 0 0]\n",
      " [0 3 0]\n",
      " [0 1 0]]\n",
      "              precision    recall  f1-score   support\n",
      "\n",
      "       Inner       1.00      1.00      1.00         3\n",
      "       Outer       0.75      1.00      0.86         3\n",
      "        Sano       0.00      0.00      0.00         1\n",
      "\n",
      "    accuracy                           0.86         7\n",
      "   macro avg       0.58      0.67      0.62         7\n",
      "weighted avg       0.75      0.86      0.80         7\n",
      "\n"
     ]
    },
    {
     "name": "stderr",
     "output_type": "stream",
     "text": [
      "C:\\Users\\jspardo\\Miniconda3\\lib\\site-packages\\sklearn\\metrics\\_classification.py:1221: UndefinedMetricWarning: Precision and F-score are ill-defined and being set to 0.0 in labels with no predicted samples. Use `zero_division` parameter to control this behavior.\n",
      "  _warn_prf(average, modifier, msg_start, len(result))\n"
     ]
    }
   ],
   "source": [
    "pred = classifier.predict(X_test)\n",
    "print(confusion_matrix(y_test, pred))\n",
    "print(classification_report(y_test, pred))"
   ]
  },
  {
   "cell_type": "code",
   "execution_count": 8,
   "id": "suitable-spirit",
   "metadata": {},
   "outputs": [
    {
     "name": "stdout",
     "output_type": "stream",
     "text": [
      "[[9 0 0]\n",
      " [0 9 0]\n",
      " [0 0 3]]\n",
      "              precision    recall  f1-score   support\n",
      "\n",
      "       Inner       1.00      1.00      1.00         9\n",
      "       Outer       1.00      1.00      1.00         9\n",
      "        Sano       1.00      1.00      1.00         3\n",
      "\n",
      "    accuracy                           1.00        21\n",
      "   macro avg       1.00      1.00      1.00        21\n",
      "weighted avg       1.00      1.00      1.00        21\n",
      "\n"
     ]
    }
   ],
   "source": [
    "pred_train = classifier.predict(X_train)\n",
    "print(confusion_matrix(y_train, pred_train))\n",
    "print(classification_report(y_train, pred_train))"
   ]
  }
 ],
 "metadata": {
  "kernelspec": {
   "display_name": "Python 3",
   "language": "python",
   "name": "python3"
  },
  "language_info": {
   "codemirror_mode": {
    "name": "ipython",
    "version": 3
   },
   "file_extension": ".py",
   "mimetype": "text/x-python",
   "name": "python",
   "nbconvert_exporter": "python",
   "pygments_lexer": "ipython3",
   "version": "3.8.5"
  }
 },
 "nbformat": 4,
 "nbformat_minor": 5
}
