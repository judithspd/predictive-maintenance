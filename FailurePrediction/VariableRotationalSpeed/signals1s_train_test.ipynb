{
 "cells": [
  {
   "cell_type": "markdown",
   "id": "intelligent-fisher",
   "metadata": {},
   "source": [
    "## Decomposition of the train and test signals into signals captured every 1s. \n",
    "#### Author: Judith Sáinz-Pardo Díaz\n",
    "##### Date: February 2021\n",
    "Recall that we have two .mat files: *signals_train.mat* and *signals_test.mat*. In them we have stored signals captured every 10 seconds. Now we want to decompose each of them into 10 signals captured every one second. In addition, for each signal we want to store certain statistics: Kurtosis, Impulse factor, RMS, Margin factor, Skewness, Shape factor, Peak to peak and Crest factor. To calculate them we will use the module *hamming_statistics.py* in which we multiply each one second signal by a window function (specifically by a Hamming window) and apply a low pass band filter to smooth it."
   ]
  },
  {
   "cell_type": "code",
   "execution_count": 1,
   "id": "former-belle",
   "metadata": {},
   "outputs": [],
   "source": [
    "import pandas as pd\n",
    "import numpy as np\n",
    "import scipy.io as sio\n",
    "import statistics_hamming\n",
    "from statistics_hamming import *"
   ]
  },
  {
   "cell_type": "code",
   "execution_count": 2,
   "id": "personal-system",
   "metadata": {},
   "outputs": [
    {
     "data": {
      "text/plain": [
       "{'__header__': b'MATLAB 5.0 MAT-file Platform: nt, Created on: Wed May  5 09:16:40 2021',\n",
       " '__version__': '1.0',\n",
       " '__globals__': [],\n",
       " 'Signal': array([[ 0.00470634,  0.00733712,  0.00963905, ...,  0.00536404,\n",
       "          0.00470634,  0.00503519],\n",
       "        [-0.00614561, -0.00581676, -0.00450137, ...,  0.00503519,\n",
       "          0.00799482,  0.0093102 ],\n",
       "        [-0.01699756, -0.01436679, -0.01140716, ...,  0.0777104 ,\n",
       "          0.09053544,  0.08330081],\n",
       "        ...,\n",
       "        [-0.00219944, -0.0018706 , -0.00154175, ...,  0.00963905,\n",
       "          0.0093102 ,  0.00898136],\n",
       "        [ 0.00503519,  0.00207557,  0.00174672, ..., -0.00022636,\n",
       "         -0.0012129 , -0.00285714],\n",
       "        [-0.00252829, -0.00219944, -0.0018706 , ..., -0.01173601,\n",
       "         -0.00647446,  0.00043133]]),\n",
       " 'Tipo': array(['Outer', 'Outer', 'Inner', 'Sano ', 'Inner', 'Sano ', 'Outer',\n",
       "        'Inner', 'Inner', 'Outer', 'Sano ', 'Outer', 'Sano ', 'Inner',\n",
       "        'Outer', 'Sano ', 'Inner', 'Outer', 'Sano ', 'Outer', 'Inner',\n",
       "        'Inner', 'Inner', 'Outer', 'Sano ', 'Sano ', 'Sano '], dtype='<U5')}"
      ]
     },
     "execution_count": 2,
     "metadata": {},
     "output_type": "execute_result"
    }
   ],
   "source": [
    "signals_train_mat = sio.loadmat('./ProcessedData/signals_train.mat')\n",
    "signals_train_mat"
   ]
  },
  {
   "cell_type": "code",
   "execution_count": 3,
   "id": "given-mozambique",
   "metadata": {},
   "outputs": [],
   "source": [
    "X_train = signals_train_mat['Signal']\n",
    "y_train = signals_train_mat['Tipo']"
   ]
  },
  {
   "cell_type": "code",
   "execution_count": 4,
   "id": "combined-theorem",
   "metadata": {},
   "outputs": [],
   "source": [
    "signals_test_mat = sio.loadmat('./ProcessedData/signals_test.mat')\n",
    "X_test = signals_test_mat['Signal']\n",
    "y_test = signals_test_mat['Tipo']"
   ]
  },
  {
   "cell_type": "code",
   "execution_count": 5,
   "id": "arabic-grenada",
   "metadata": {},
   "outputs": [
    {
     "data": {
      "text/plain": [
       "array([ 0.00470634,  0.00733712,  0.00963905, ..., -0.01206486,\n",
       "       -0.01009178, -0.00614561])"
      ]
     },
     "execution_count": 5,
     "metadata": {},
     "output_type": "execute_result"
    }
   ],
   "source": [
    "signal = X_train[0][0:20000]\n",
    "signal"
   ]
  },
  {
   "cell_type": "code",
   "execution_count": 6,
   "id": "packed-semester",
   "metadata": {},
   "outputs": [],
   "source": [
    "kurt_train = []\n",
    "impulse_factor_train = []\n",
    "RMS_train = [] \n",
    "margin_factor_train = []\n",
    "skewness_train = []\n",
    "shape_factor_train = []\n",
    "peak_to_peak_train = []\n",
    "crest_factor_train = []\n",
    "\n",
    "for i in range(len(X_train)):\n",
    "    for j in range(10):\n",
    "        signal = X_train[i][200000 * j : 200000 * (j+1)]\n",
    "        kurt, impulse_factor, RMS, margin_factor, skewness, shape_factor, peak_to_peak, crest_factor = parameters_hamming(signal)\n",
    "        kurt_train.append(kurt)\n",
    "        impulse_factor_train.append(impulse_factor)\n",
    "        RMS_train.append(RMS)\n",
    "        margin_factor_train.append(margin_factor)\n",
    "        skewness_train.append(skewness)\n",
    "        shape_factor_train.append(shape_factor)\n",
    "        peak_to_peak_train.append(peak_to_peak)\n",
    "        crest_factor_train.append(crest_factor)"
   ]
  },
  {
   "cell_type": "code",
   "execution_count": 7,
   "id": "intense-filename",
   "metadata": {},
   "outputs": [
    {
     "data": {
      "text/plain": [
       "270"
      ]
     },
     "execution_count": 7,
     "metadata": {},
     "output_type": "execute_result"
    }
   ],
   "source": [
    "y_train = signals_train_mat['Tipo']\n",
    "tipo_train = []\n",
    "for i in range(len(y_train)):\n",
    "    for j in range(10):\n",
    "        tipo_train.append(y_train[i])\n",
    "        \n",
    "y_train = tipo_train\n",
    "len(y_train)"
   ]
  },
  {
   "cell_type": "code",
   "execution_count": 8,
   "id": "surrounded-twist",
   "metadata": {},
   "outputs": [],
   "source": [
    "kurt_test = []\n",
    "impulse_factor_test = []\n",
    "RMS_test = [] \n",
    "margin_factor_test = []\n",
    "skewness_test = []\n",
    "shape_factor_test = []\n",
    "peak_to_peak_test = []\n",
    "crest_factor_test = []\n",
    "\n",
    "for i in range(len(X_test)):\n",
    "    for j in range(10):\n",
    "        signal = X_test[i][200000 * j : 200000 * (j+1)]\n",
    "        kurt, impulse_factor, RMS, margin_factor, skewness, shape_factor, peak_to_peak, crest_factor = parameters_hamming(signal)\n",
    "        kurt_test.append(kurt)\n",
    "        impulse_factor_test.append(impulse_factor)\n",
    "        RMS_test.append(RMS)\n",
    "        margin_factor_test.append(margin_factor)\n",
    "        skewness_test.append(skewness)\n",
    "        shape_factor_test.append(shape_factor)\n",
    "        peak_to_peak_test.append(peak_to_peak)\n",
    "        crest_factor_test.append(crest_factor)"
   ]
  },
  {
   "cell_type": "code",
   "execution_count": 9,
   "id": "focused-shark",
   "metadata": {},
   "outputs": [
    {
     "data": {
      "text/plain": [
       "90"
      ]
     },
     "execution_count": 9,
     "metadata": {},
     "output_type": "execute_result"
    }
   ],
   "source": [
    "y_test = signals_test_mat['Tipo']\n",
    "tipo_test = []\n",
    "for i in range(len(y_test)):\n",
    "    for j in range(10):\n",
    "        tipo_test.append(y_test[i])\n",
    "        \n",
    "y_test = tipo_test\n",
    "len(y_test)"
   ]
  },
  {
   "cell_type": "code",
   "execution_count": 10,
   "id": "economic-welding",
   "metadata": {},
   "outputs": [],
   "source": [
    "df_train = pd.DataFrame({'Tipo': np.core.defchararray.replace(y_train, ' ', ''), 'Kurtosis': kurt_train,\n",
    "                                   'Impulse factor': impulse_factor_train, \n",
    "                                   'RMS': RMS_train, 'Margin factor': margin_factor_train, 'Skewness': skewness_train,\n",
    "                                   'Shape factor': shape_factor_train, 'Peak to peak': peak_to_peak_train,\n",
    "                                   'Crest factor': crest_factor_train})"
   ]
  },
  {
   "cell_type": "code",
   "execution_count": 11,
   "id": "widespread-wisdom",
   "metadata": {},
   "outputs": [],
   "source": [
    "df_test = pd.DataFrame({'Tipo': np.core.defchararray.replace(y_test, ' ', ''), 'Kurtosis': kurt_test, \n",
    "                                   'Impulse factor': impulse_factor_test, \n",
    "                                   'RMS': RMS_test, 'Margin factor': margin_factor_test, 'Skewness': skewness_test,\n",
    "                                   'Shape factor': shape_factor_test, 'Peak to peak': peak_to_peak_test,\n",
    "                                   'Crest factor': crest_factor_test})"
   ]
  },
  {
   "cell_type": "code",
   "execution_count": 12,
   "id": "hollow-train",
   "metadata": {},
   "outputs": [
    {
     "data": {
      "text/html": [
       "<div>\n",
       "<style scoped>\n",
       "    .dataframe tbody tr th:only-of-type {\n",
       "        vertical-align: middle;\n",
       "    }\n",
       "\n",
       "    .dataframe tbody tr th {\n",
       "        vertical-align: top;\n",
       "    }\n",
       "\n",
       "    .dataframe thead th {\n",
       "        text-align: right;\n",
       "    }\n",
       "</style>\n",
       "<table border=\"1\" class=\"dataframe\">\n",
       "  <thead>\n",
       "    <tr style=\"text-align: right;\">\n",
       "      <th></th>\n",
       "      <th>Tipo</th>\n",
       "      <th>Kurtosis</th>\n",
       "      <th>Impulse factor</th>\n",
       "      <th>RMS</th>\n",
       "      <th>Margin factor</th>\n",
       "      <th>Skewness</th>\n",
       "      <th>Shape factor</th>\n",
       "      <th>Peak to peak</th>\n",
       "      <th>Crest factor</th>\n",
       "    </tr>\n",
       "  </thead>\n",
       "  <tbody>\n",
       "    <tr>\n",
       "      <th>0</th>\n",
       "      <td>Inner</td>\n",
       "      <td>6.218542</td>\n",
       "      <td>12.755406</td>\n",
       "      <td>10.054184</td>\n",
       "      <td>0.001769</td>\n",
       "      <td>-0.046052</td>\n",
       "      <td>717.064177</td>\n",
       "      <td>0.347681</td>\n",
       "      <td>0.017788</td>\n",
       "    </tr>\n",
       "    <tr>\n",
       "      <th>1</th>\n",
       "      <td>Inner</td>\n",
       "      <td>7.439132</td>\n",
       "      <td>15.074403</td>\n",
       "      <td>8.683827</td>\n",
       "      <td>0.002368</td>\n",
       "      <td>-0.237661</td>\n",
       "      <td>733.098362</td>\n",
       "      <td>0.334875</td>\n",
       "      <td>0.020563</td>\n",
       "    </tr>\n",
       "    <tr>\n",
       "      <th>2</th>\n",
       "      <td>Inner</td>\n",
       "      <td>6.986196</td>\n",
       "      <td>15.933886</td>\n",
       "      <td>7.940166</td>\n",
       "      <td>0.002754</td>\n",
       "      <td>-0.101841</td>\n",
       "      <td>728.559380</td>\n",
       "      <td>0.323531</td>\n",
       "      <td>0.021870</td>\n",
       "    </tr>\n",
       "    <tr>\n",
       "      <th>3</th>\n",
       "      <td>Inner</td>\n",
       "      <td>6.078239</td>\n",
       "      <td>12.148607</td>\n",
       "      <td>7.204881</td>\n",
       "      <td>0.002337</td>\n",
       "      <td>0.038646</td>\n",
       "      <td>721.382828</td>\n",
       "      <td>0.236550</td>\n",
       "      <td>0.016841</td>\n",
       "    </tr>\n",
       "    <tr>\n",
       "      <th>4</th>\n",
       "      <td>Inner</td>\n",
       "      <td>6.043432</td>\n",
       "      <td>13.055936</td>\n",
       "      <td>6.579062</td>\n",
       "      <td>0.002780</td>\n",
       "      <td>0.112928</td>\n",
       "      <td>713.723280</td>\n",
       "      <td>0.235524</td>\n",
       "      <td>0.018293</td>\n",
       "    </tr>\n",
       "    <tr>\n",
       "      <th>...</th>\n",
       "      <td>...</td>\n",
       "      <td>...</td>\n",
       "      <td>...</td>\n",
       "      <td>...</td>\n",
       "      <td>...</td>\n",
       "      <td>...</td>\n",
       "      <td>...</td>\n",
       "      <td>...</td>\n",
       "      <td>...</td>\n",
       "    </tr>\n",
       "    <tr>\n",
       "      <th>85</th>\n",
       "      <td>Sano</td>\n",
       "      <td>2.264807</td>\n",
       "      <td>8.355337</td>\n",
       "      <td>2.111687</td>\n",
       "      <td>0.006081</td>\n",
       "      <td>0.108581</td>\n",
       "      <td>650.688187</td>\n",
       "      <td>0.051309</td>\n",
       "      <td>0.012841</td>\n",
       "    </tr>\n",
       "    <tr>\n",
       "      <th>86</th>\n",
       "      <td>Sano</td>\n",
       "      <td>2.710360</td>\n",
       "      <td>8.908661</td>\n",
       "      <td>2.225007</td>\n",
       "      <td>0.006053</td>\n",
       "      <td>0.050830</td>\n",
       "      <td>661.429730</td>\n",
       "      <td>0.058219</td>\n",
       "      <td>0.013469</td>\n",
       "    </tr>\n",
       "    <tr>\n",
       "      <th>87</th>\n",
       "      <td>Sano</td>\n",
       "      <td>2.615779</td>\n",
       "      <td>9.261339</td>\n",
       "      <td>1.962615</td>\n",
       "      <td>0.007205</td>\n",
       "      <td>-0.014199</td>\n",
       "      <td>654.934720</td>\n",
       "      <td>0.054678</td>\n",
       "      <td>0.014141</td>\n",
       "    </tr>\n",
       "    <tr>\n",
       "      <th>88</th>\n",
       "      <td>Sano</td>\n",
       "      <td>3.145066</td>\n",
       "      <td>10.019697</td>\n",
       "      <td>1.863660</td>\n",
       "      <td>0.008138</td>\n",
       "      <td>-0.025568</td>\n",
       "      <td>660.633685</td>\n",
       "      <td>0.054243</td>\n",
       "      <td>0.015167</td>\n",
       "    </tr>\n",
       "    <tr>\n",
       "      <th>89</th>\n",
       "      <td>Sano</td>\n",
       "      <td>2.650067</td>\n",
       "      <td>8.448702</td>\n",
       "      <td>1.831204</td>\n",
       "      <td>0.007016</td>\n",
       "      <td>0.029884</td>\n",
       "      <td>657.647586</td>\n",
       "      <td>0.045817</td>\n",
       "      <td>0.012847</td>\n",
       "    </tr>\n",
       "  </tbody>\n",
       "</table>\n",
       "<p>90 rows × 9 columns</p>\n",
       "</div>"
      ],
      "text/plain": [
       "     Tipo  Kurtosis  Impulse factor        RMS  Margin factor  Skewness  \\\n",
       "0   Inner  6.218542       12.755406  10.054184       0.001769 -0.046052   \n",
       "1   Inner  7.439132       15.074403   8.683827       0.002368 -0.237661   \n",
       "2   Inner  6.986196       15.933886   7.940166       0.002754 -0.101841   \n",
       "3   Inner  6.078239       12.148607   7.204881       0.002337  0.038646   \n",
       "4   Inner  6.043432       13.055936   6.579062       0.002780  0.112928   \n",
       "..    ...       ...             ...        ...            ...       ...   \n",
       "85   Sano  2.264807        8.355337   2.111687       0.006081  0.108581   \n",
       "86   Sano  2.710360        8.908661   2.225007       0.006053  0.050830   \n",
       "87   Sano  2.615779        9.261339   1.962615       0.007205 -0.014199   \n",
       "88   Sano  3.145066       10.019697   1.863660       0.008138 -0.025568   \n",
       "89   Sano  2.650067        8.448702   1.831204       0.007016  0.029884   \n",
       "\n",
       "    Shape factor  Peak to peak  Crest factor  \n",
       "0     717.064177      0.347681      0.017788  \n",
       "1     733.098362      0.334875      0.020563  \n",
       "2     728.559380      0.323531      0.021870  \n",
       "3     721.382828      0.236550      0.016841  \n",
       "4     713.723280      0.235524      0.018293  \n",
       "..           ...           ...           ...  \n",
       "85    650.688187      0.051309      0.012841  \n",
       "86    661.429730      0.058219      0.013469  \n",
       "87    654.934720      0.054678      0.014141  \n",
       "88    660.633685      0.054243      0.015167  \n",
       "89    657.647586      0.045817      0.012847  \n",
       "\n",
       "[90 rows x 9 columns]"
      ]
     },
     "execution_count": 12,
     "metadata": {},
     "output_type": "execute_result"
    }
   ],
   "source": [
    "df_test"
   ]
  },
  {
   "cell_type": "code",
   "execution_count": 13,
   "id": "coated-guinea",
   "metadata": {},
   "outputs": [],
   "source": [
    "df_train.to_csv('./ProcessedData/statistics_10_train.csv', index = False, header = True, sep = ',')\n",
    "df_test.to_csv('./ProcessedData/statistics_10_test.csv', index = False, header = True, sep = ',')"
   ]
  }
 ],
 "metadata": {
  "kernelspec": {
   "display_name": "Python 3",
   "language": "python",
   "name": "python3"
  },
  "language_info": {
   "codemirror_mode": {
    "name": "ipython",
    "version": 3
   },
   "file_extension": ".py",
   "mimetype": "text/x-python",
   "name": "python",
   "nbconvert_exporter": "python",
   "pygments_lexer": "ipython3",
   "version": "3.8.5"
  }
 },
 "nbformat": 4,
 "nbformat_minor": 5
}
