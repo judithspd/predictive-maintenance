{
 "cells": [
  {
   "cell_type": "markdown",
   "id": "excessive-winning",
   "metadata": {},
   "source": [
    "## kNN\n",
    "We have subjected the signals from https://www.sciencedirect.com/science/article/pii/S2352340918314124 to certain transformations to preprocess them: \n",
    "* In order to have more training data, each signal capture (of duration 10 seconds), we have divided it into 10 signals of 1s each (numerous studies show that with less than 1s of vibration, faults in the signals can be appreciated).\n",
    "* Each signal captured every 1s was multiplied by a Hamming-type window function.\n",
    "* After applying the window function, the signals were subjected to a low pass band filter.\n",
    "\n",
    "For each preprocessed signal we calculated 8 statistics and/or significant parameters for diagnosis: Kurtosis, Impulse factor, RMS, Margin factor, Skewness, Shape factor, Peak to peak, Crest factor. \n",
    "\n",
    "We are going to apply the kNN technique to predict on a test set the type of input signal. We will find the optimal value of k by looking at the accuracy of train and test as k varies.  "
   ]
  },
  {
   "cell_type": "code",
   "execution_count": 1,
   "id": "stainless-scout",
   "metadata": {},
   "outputs": [],
   "source": [
    "import pandas as pd\n",
    "import numpy as np\n",
    "import matplotlib.pyplot as plt\n",
    "import seaborn as sns\n",
    "from matplotlib.colors import ListedColormap\n",
    "import matplotlib.patches as mpatches\n",
    "from sklearn.model_selection import train_test_split\n",
    "from sklearn.preprocessing import MinMaxScaler\n",
    "from sklearn.neighbors import KNeighborsClassifier\n",
    "from sklearn.metrics import classification_report\n",
    "from sklearn.metrics import confusion_matrix\n",
    "import sklearn.externals\n",
    "import joblib "
   ]
  },
  {
   "cell_type": "code",
   "execution_count": 2,
   "id": "reliable-whole",
   "metadata": {},
   "outputs": [],
   "source": [
    "df_train = pd.read_csv(\"statistics_10_train.csv\" , sep = ',')\n",
    "df_test = pd.read_csv(\"statistics_10_test.csv\" , sep = ',')"
   ]
  },
  {
   "cell_type": "code",
   "execution_count": 3,
   "id": "fancy-sequence",
   "metadata": {},
   "outputs": [],
   "source": [
    "X_train = df_train[['Kurtosis', 'Impulse factor', 'RMS', 'Margin factor', 'Skewness',\n",
    "               'Shape factor', 'Peak to peak', 'Crest factor']].values\n",
    "y_train = df_train['Tipo'].values\n",
    "X_test = df_test[['Kurtosis', 'Impulse factor', 'RMS', 'Margin factor', 'Skewness',\n",
    "               'Shape factor', 'Peak to peak', 'Crest factor']].values\n",
    "y_test = df_test['Tipo'].values"
   ]
  },
  {
   "cell_type": "code",
   "execution_count": 4,
   "id": "behavioral-exclusion",
   "metadata": {},
   "outputs": [],
   "source": [
    "scaler = MinMaxScaler()\n",
    "# Escalamos los predictores:\n",
    "X_train = scaler.fit_transform(X_train)\n",
    "X_test = scaler.transform(X_test)"
   ]
  },
  {
   "cell_type": "code",
   "execution_count": 5,
   "id": "motivated-albert",
   "metadata": {},
   "outputs": [
    {
     "name": "stdout",
     "output_type": "stream",
     "text": [
      "----- k: 1----- Accuracy test: 0.9777777777777777-----\n",
      "----- k: 2----- Accuracy test: 0.9666666666666667-----\n",
      "----- k: 3----- Accuracy test: 0.9777777777777777-----\n",
      "----- k: 4----- Accuracy test: 0.9777777777777777-----\n",
      "----- k: 5----- Accuracy test: 0.9777777777777777-----\n",
      "----- k: 6----- Accuracy test: 0.9777777777777777-----\n",
      "----- k: 7----- Accuracy test: 0.9777777777777777-----\n",
      "----- k: 8----- Accuracy test: 0.9777777777777777-----\n",
      "----- k: 9----- Accuracy test: 0.9666666666666667-----\n",
      "----- k: 10----- Accuracy test: 0.9666666666666667-----\n",
      "----- k: 11----- Accuracy test: 0.9444444444444444-----\n",
      "----- k: 12----- Accuracy test: 0.9444444444444444-----\n",
      "----- k: 13----- Accuracy test: 0.9444444444444444-----\n",
      "----- k: 14----- Accuracy test: 0.9555555555555556-----\n",
      "----- k: 15----- Accuracy test: 0.9444444444444444-----\n",
      "----- k: 16----- Accuracy test: 0.9555555555555556-----\n",
      "----- k: 17----- Accuracy test: 0.9555555555555556-----\n",
      "----- k: 18----- Accuracy test: 0.9555555555555556-----\n",
      "----- k: 19----- Accuracy test: 0.9444444444444444-----\n",
      "----- k: 20----- Accuracy test: 0.9555555555555556-----\n",
      "----- k: 21----- Accuracy test: 0.9555555555555556-----\n",
      "----- k: 22----- Accuracy test: 0.9555555555555556-----\n",
      "----- k: 23----- Accuracy test: 0.9555555555555556-----\n",
      "----- k: 24----- Accuracy test: 0.9555555555555556-----\n",
      "----- k: 25----- Accuracy test: 0.9555555555555556-----\n",
      "----- k: 26----- Accuracy test: 0.9555555555555556-----\n",
      "----- k: 27----- Accuracy test: 0.9555555555555556-----\n",
      "----- k: 28----- Accuracy test: 0.9555555555555556-----\n",
      "----- k: 29----- Accuracy test: 0.9555555555555556-----\n"
     ]
    },
    {
     "data": {
      "text/plain": [
       "<matplotlib.legend.Legend at 0x1cbb86a5be0>"
      ]
     },
     "execution_count": 5,
     "metadata": {},
     "output_type": "execute_result"
    },
    {
     "data": {
      "image/png": "[encoded data removed]",
      "text/plain": [
       "<Figure size 432x288 with 1 Axes>"
      ]
     },
     "metadata": {
      "needs_background": "light"
     },
     "output_type": "display_data"
    }
   ],
   "source": [
    "k_values = range(1, 30)\n",
    "scores_train = []\n",
    "scores_test = []\n",
    "for k in k_values:\n",
    "    knn = KNeighborsClassifier(n_neighbors = k)\n",
    "    knn.fit(X_train, y_train)\n",
    "    scores_train.append(knn.score(X_train, y_train))\n",
    "    scores_test.append(knn.score(X_test, y_test))\n",
    "    print('----- k: ' + str(k) + '----- Accuracy test: ' + str(scores_test[k - 1]) + '-----')\n",
    "plt.figure()\n",
    "plt.xlabel('k')\n",
    "plt.ylabel('Accuracy')\n",
    "plt.plot(k_values, scores_train, label = 'Train')\n",
    "plt.plot(k_values, scores_test, label = 'Test')\n",
    "plt.legend()"
   ]
  },
  {
   "cell_type": "code",
   "execution_count": 6,
   "id": "pointed-transition",
   "metadata": {},
   "outputs": [
    {
     "name": "stdout",
     "output_type": "stream",
     "text": [
      "Accuracy en el conjunto de train: 0.981\n",
      "Accuracy en el conjunto de test: 0.978\n"
     ]
    }
   ],
   "source": [
    "n_neighbors = 5\n",
    "classifier = KNeighborsClassifier(n_neighbors)\n",
    "classifier.fit(X_train, y_train)\n",
    "print('Accuracy en el conjunto de train: {:.3f}'\n",
    "     .format(classifier.score(X_train, y_train)))\n",
    "print('Accuracy en el conjunto de test: {:.3f}'\n",
    "     .format(classifier.score(X_test, y_test)))"
   ]
  },
  {
   "cell_type": "code",
   "execution_count": 7,
   "id": "acting-pavilion",
   "metadata": {},
   "outputs": [
    {
     "name": "stdout",
     "output_type": "stream",
     "text": [
      "[[29  1  0]\n",
      " [ 0 30  0]\n",
      " [ 0  1 29]]\n",
      "              precision    recall  f1-score   support\n",
      "\n",
      "       Inner       1.00      0.97      0.98        30\n",
      "       Outer       0.94      1.00      0.97        30\n",
      "     Healthy       1.00      0.97      0.98        30\n",
      "\n",
      "    accuracy                           0.98        90\n",
      "   macro avg       0.98      0.98      0.98        90\n",
      "weighted avg       0.98      0.98      0.98        90\n",
      "\n"
     ]
    }
   ],
   "source": [
    "target_names = ['Inner', 'Outer', 'Healthy']\n",
    "pred = classifier.predict(X_test)\n",
    "print(confusion_matrix(y_test, pred))\n",
    "print(classification_report(y_test, pred, target_names = target_names))"
   ]
  },
  {
   "cell_type": "code",
   "execution_count": 8,
   "id": "excess-laugh",
   "metadata": {},
   "outputs": [
    {
     "name": "stdout",
     "output_type": "stream",
     "text": [
      "[[90  0  0]\n",
      " [ 0 86  4]\n",
      " [ 0  1 89]]\n",
      "              precision    recall  f1-score   support\n",
      "\n",
      "       Inner       1.00      1.00      1.00        90\n",
      "       Outer       0.99      0.96      0.97        90\n",
      "     Healthy       0.96      0.99      0.97        90\n",
      "\n",
      "    accuracy                           0.98       270\n",
      "   macro avg       0.98      0.98      0.98       270\n",
      "weighted avg       0.98      0.98      0.98       270\n",
      "\n"
     ]
    }
   ],
   "source": [
    "pred_train = classifier.predict(X_train)\n",
    "print(confusion_matrix(y_train, pred_train))\n",
    "print(classification_report(y_train, pred_train, target_names = target_names))"
   ]
  },
  {
   "cell_type": "code",
   "execution_count": 9,
   "id": "charming-netherlands",
   "metadata": {},
   "outputs": [
    {
     "data": {
      "image/png": "[encoded data removed]",
      "text/plain": [
       "<Figure size 504x432 with 1 Axes>"
      ]
     },
     "metadata": {},
     "output_type": "display_data"
    }
   ],
   "source": [
    "sns.set()\n",
    "mat = confusion_matrix(y_test, pred)\n",
    "fig, ax = plt.subplots(figsize=(7,6))\n",
    "sns.set(font_scale=1.3)\n",
    "sns.heatmap(mat.T, square=False, annot=True, fmt='d', cbar=False,\n",
    "            xticklabels=['Inner', 'Outer', 'Healthy'],\n",
    "            yticklabels=['Inner', 'Outer', 'Healthy'],\n",
    "            cmap=sns.cubehelix_palette(light=1, as_cmap=True))\n",
    "\n",
    "plt.xlabel('True label');\n",
    "plt.ylabel('Predicted label');"
   ]
  },
  {
   "cell_type": "code",
   "execution_count": 10,
   "id": "falling-bracelet",
   "metadata": {},
   "outputs": [
    {
     "data": {
      "image/png": "[encoded data removed]",
      "text/plain": [
       "<Figure size 504x432 with 1 Axes>"
      ]
     },
     "metadata": {},
     "output_type": "display_data"
    }
   ],
   "source": [
    "sns.set()\n",
    "mat = confusion_matrix(y_train, classifier.predict(X_train))\n",
    "fig, ax = plt.subplots(figsize=(7,6))\n",
    "sns.set(font_scale=1.3)\n",
    "sns.heatmap(mat.T, square=False, annot=True, fmt='d', cbar=False,\n",
    "            xticklabels=['Inner', 'Outer', 'Healthy'],\n",
    "            yticklabels=['Inner', 'Outer', 'Healthy'],\n",
    "            cmap=sns.cubehelix_palette(light=1, as_cmap=True))\n",
    "\n",
    "plt.xlabel('True label');\n",
    "plt.ylabel('Predicted label');"
   ]
  },
  {
   "cell_type": "code",
   "execution_count": 11,
   "id": "pediatric-evanescence",
   "metadata": {},
   "outputs": [
    {
     "data": {
      "text/plain": [
       "['knn_traintest_trained.pkl']"
      ]
     },
     "execution_count": 11,
     "metadata": {},
     "output_type": "execute_result"
    }
   ],
   "source": [
    "joblib.dump(classifier, 'knn_traintest_trained.pkl') "
   ]
  },
  {
   "cell_type": "code",
   "execution_count": 12,
   "id": "excessive-catering",
   "metadata": {},
   "outputs": [
    {
     "data": {
      "text/plain": [
       "['scaler_traintest.pkl']"
      ]
     },
     "execution_count": 12,
     "metadata": {},
     "output_type": "execute_result"
    }
   ],
   "source": [
    "scaler_filename = \"scaler_traintest.pkl\"\n",
    "joblib.dump(scaler, scaler_filename) "
   ]
  }
 ],
 "metadata": {
  "kernelspec": {
   "display_name": "Python 3",
   "language": "python",
   "name": "python3"
  },
  "language_info": {
   "codemirror_mode": {
    "name": "ipython",
    "version": 3
   },
   "file_extension": ".py",
   "mimetype": "text/x-python",
   "name": "python",
   "nbconvert_exporter": "python",
   "pygments_lexer": "ipython3",
   "version": "3.8.5"
  }
 },
 "nbformat": 4,
 "nbformat_minor": 5
}
