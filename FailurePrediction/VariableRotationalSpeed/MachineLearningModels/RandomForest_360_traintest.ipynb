{
 "cells": [
  {
   "cell_type": "markdown",
   "id": "invalid-patient",
   "metadata": {},
   "source": [
    "## Random Forest"
   ]
  },
  {
   "cell_type": "code",
   "execution_count": 1,
   "id": "stainless-scout",
   "metadata": {},
   "outputs": [],
   "source": [
    "import pandas as pd\n",
    "import numpy as np\n",
    "import matplotlib.pyplot as plt\n",
    "import seaborn as sns\n",
    "from matplotlib.colors import ListedColormap\n",
    "import matplotlib.patches as mpatches\n",
    "from sklearn.model_selection import train_test_split\n",
    "from sklearn.preprocessing import MinMaxScaler\n",
    "from sklearn.neighbors import KNeighborsClassifier\n",
    "from sklearn.metrics import classification_report\n",
    "from sklearn.metrics import confusion_matrix\n",
    "from sklearn.ensemble import RandomForestClassifier\n",
    "import sklearn.externals\n",
    "import joblib "
   ]
  },
  {
   "cell_type": "code",
   "execution_count": 2,
   "id": "reliable-whole",
   "metadata": {},
   "outputs": [],
   "source": [
    "df_train = pd.read_csv(\"statistics_10_train.csv\" , sep = ',')\n",
    "df_test = pd.read_csv(\"statistics_10_test.csv\" , sep = ',')"
   ]
  },
  {
   "cell_type": "code",
   "execution_count": 3,
   "id": "creative-oxygen",
   "metadata": {},
   "outputs": [],
   "source": [
    "X_train = df_train[['Kurtosis', 'Impulse factor', 'RMS', 'Margin factor', 'Skewness',\n",
    "               'Shape factor', 'Peak to peak', 'Crest factor']].values\n",
    "y_train = df_train['Tipo'].values\n",
    "X_test = df_test[['Kurtosis', 'Impulse factor', 'RMS', 'Margin factor', 'Skewness',\n",
    "               'Shape factor', 'Peak to peak', 'Crest factor']].values\n",
    "y_test = df_test['Tipo'].values"
   ]
  },
  {
   "cell_type": "code",
   "execution_count": 5,
   "id": "parallel-clark",
   "metadata": {},
   "outputs": [
    {
     "name": "stdout",
     "output_type": "stream",
     "text": [
      "----- n trees: 1----- Accuracy test: 0.9555555555555556-----\n",
      "----- n trees: 10----- Accuracy test: 0.9444444444444444-----\n",
      "----- n trees: 20----- Accuracy test: 0.9555555555555556-----\n",
      "----- n trees: 30----- Accuracy test: 0.9444444444444444-----\n",
      "----- n trees: 40----- Accuracy test: 0.9444444444444444-----\n",
      "----- n trees: 50----- Accuracy test: 0.9444444444444444-----\n",
      "----- n trees: 60----- Accuracy test: 0.9444444444444444-----\n",
      "----- n trees: 70----- Accuracy test: 0.9555555555555556-----\n",
      "----- n trees: 80----- Accuracy test: 0.9444444444444444-----\n",
      "----- n trees: 90----- Accuracy test: 0.9555555555555556-----\n",
      "----- n trees: 100----- Accuracy test: 0.9555555555555556-----\n"
     ]
    }
   ],
   "source": [
    "arr_estimators = range(1, 101)\n",
    "scores_train = []\n",
    "scores_test = []\n",
    "for i in arr_estimators:\n",
    "    randomForest = RandomForestClassifier(random_state=0, n_estimators = i, min_samples_split = 2, min_samples_leaf  = 1)\n",
    "    randomForest.fit(X_train, y_train)\n",
    "    scores_train.append(randomForest.score(X_train, y_train))\n",
    "    scores_test.append(randomForest.score(X_test, y_test))\n",
    "    if (i % 10 == 0 or i == 1):\n",
    "        print('----- n trees: ' + str(i) + '----- Accuracy test: ' + str(scores_test[i - 1]) + '-----')"
   ]
  },
  {
   "cell_type": "code",
   "execution_count": 6,
   "id": "extensive-convenience",
   "metadata": {},
   "outputs": [
    {
     "data": {
      "text/plain": [
       "<matplotlib.legend.Legend at 0x206b9098a90>"
      ]
     },
     "execution_count": 6,
     "metadata": {},
     "output_type": "execute_result"
    },
    {
     "data": {
      "image/png": "[encoded data removed]",
      "text/plain": [
       "<Figure size 432x288 with 1 Axes>"
      ]
     },
     "metadata": {
      "needs_background": "light"
     },
     "output_type": "display_data"
    }
   ],
   "source": [
    "plt.figure()\n",
    "plt.xlabel('n_trees')\n",
    "plt.ylabel('Accuracy')\n",
    "plt.plot(arr_estimators, scores_train, label = 'Train')\n",
    "plt.plot(arr_estimators, scores_test, label = 'Test')\n",
    "plt.legend()"
   ]
  },
  {
   "cell_type": "code",
   "execution_count": 7,
   "id": "loaded-least",
   "metadata": {},
   "outputs": [],
   "source": [
    "randomForest = RandomForestClassifier(random_state=0, n_estimators = 90, min_samples_split = 2, min_samples_leaf  = 1)"
   ]
  },
  {
   "cell_type": "code",
   "execution_count": 8,
   "id": "needed-immune",
   "metadata": {},
   "outputs": [
    {
     "data": {
      "text/plain": [
       "RandomForestClassifier(n_estimators=90, random_state=0)"
      ]
     },
     "execution_count": 8,
     "metadata": {},
     "output_type": "execute_result"
    }
   ],
   "source": [
    "randomForest.fit(X_train, y_train)"
   ]
  },
  {
   "cell_type": "code",
   "execution_count": 9,
   "id": "center-metallic",
   "metadata": {},
   "outputs": [
    {
     "name": "stdout",
     "output_type": "stream",
     "text": [
      "[[28  2  0]\n",
      " [ 0 30  0]\n",
      " [ 0  2 28]]\n",
      "              precision    recall  f1-score   support\n",
      "\n",
      "       Inner       1.00      0.93      0.97        30\n",
      "       Outer       0.88      1.00      0.94        30\n",
      "     Healthy       1.00      0.93      0.97        30\n",
      "\n",
      "    accuracy                           0.96        90\n",
      "   macro avg       0.96      0.96      0.96        90\n",
      "weighted avg       0.96      0.96      0.96        90\n",
      "\n"
     ]
    }
   ],
   "source": [
    "target_names = ['Inner', 'Outer', 'Healthy']\n",
    "pred = randomForest.predict(X_test)\n",
    "print(confusion_matrix(y_test, pred))\n",
    "print(classification_report(y_test, pred, target_names = target_names))"
   ]
  },
  {
   "cell_type": "code",
   "execution_count": 10,
   "id": "filled-dependence",
   "metadata": {},
   "outputs": [
    {
     "name": "stdout",
     "output_type": "stream",
     "text": [
      "[[90  0  0]\n",
      " [ 0 90  0]\n",
      " [ 0  0 90]]\n",
      "              precision    recall  f1-score   support\n",
      "\n",
      "       Inner       1.00      1.00      1.00        90\n",
      "       Outer       1.00      1.00      1.00        90\n",
      "     Healthy       1.00      1.00      1.00        90\n",
      "\n",
      "    accuracy                           1.00       270\n",
      "   macro avg       1.00      1.00      1.00       270\n",
      "weighted avg       1.00      1.00      1.00       270\n",
      "\n"
     ]
    }
   ],
   "source": [
    "pred_train = randomForest.predict(X_train)\n",
    "print(confusion_matrix(y_train, pred_train))\n",
    "print(classification_report(y_train, pred_train, target_names = target_names))"
   ]
  },
  {
   "cell_type": "code",
   "execution_count": 11,
   "id": "joint-hacker",
   "metadata": {},
   "outputs": [
    {
     "data": {
      "image/png": "[encoded data removed]",
      "text/plain": [
       "<Figure size 504x432 with 1 Axes>"
      ]
     },
     "metadata": {},
     "output_type": "display_data"
    }
   ],
   "source": [
    "sns.set()\n",
    "mat = confusion_matrix(y_test, pred)\n",
    "fig, ax = plt.subplots(figsize=(7,6))\n",
    "sns.set(font_scale=1.3)\n",
    "sns.heatmap(mat.T, square=False, annot=True, fmt='d', cbar=False,\n",
    "            xticklabels=['Inner', 'Outer', 'Healthy'],\n",
    "            yticklabels=['Inner', 'Outer', 'Healthy'],\n",
    "            cmap=sns.cubehelix_palette(light=1, as_cmap=True))\n",
    "\n",
    "plt.xlabel('True label');\n",
    "plt.ylabel('Predicted label');"
   ]
  },
  {
   "cell_type": "code",
   "execution_count": 12,
   "id": "soviet-transfer",
   "metadata": {},
   "outputs": [
    {
     "data": {
      "text/plain": [
       "['randomForest_traintest_trained.pkl']"
      ]
     },
     "execution_count": 12,
     "metadata": {},
     "output_type": "execute_result"
    }
   ],
   "source": [
    "joblib.dump(randomForest, 'randomForest_traintest_trained.pkl') # Guardo el modelo."
   ]
  }
 ],
 "metadata": {
  "kernelspec": {
   "display_name": "Python 3",
   "language": "python",
   "name": "python3"
  },
  "language_info": {
   "codemirror_mode": {
    "name": "ipython",
    "version": 3
   },
   "file_extension": ".py",
   "mimetype": "text/x-python",
   "name": "python",
   "nbconvert_exporter": "python",
   "pygments_lexer": "ipython3",
   "version": "3.8.5"
  }
 },
 "nbformat": 4,
 "nbformat_minor": 5
}
