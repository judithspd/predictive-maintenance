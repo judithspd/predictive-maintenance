{
 "cells": [
  {
   "cell_type": "markdown",
   "id": "particular-abuse",
   "metadata": {},
   "source": [
    "## SVM\n",
    "We have subjected the signals from https://www.sciencedirect.com/science/article/pii/S2352340918314124 to certain transformations to preprocess them: \n",
    "* In order to have more training data, each signal capture (of duration 10 seconds), we have divided it into 10 signals of 1s each (numerous studies show that with less than 1s of vibration, faults in the signals can be appreciated).\n",
    "* Each signal captured every 1s was multiplied by a Hamming-type window function.\n",
    "* After applying the window function, the signals were subjected to a low pass band filter.\n",
    "\n",
    "For each preprocessed signal, we calculated 8 statistics and/or significant parameters for diagnosis: Kurtosis, Impulse factor, RMS, Margin factor, Skewness, Shape factor, Peak to peak, Crest factor. We will apply SVM for classification, using these statistics."
   ]
  },
  {
   "cell_type": "code",
   "execution_count": 1,
   "id": "excellent-hampshire",
   "metadata": {},
   "outputs": [],
   "source": [
    "import pandas as pd\n",
    "import numpy as np\n",
    "import matplotlib.pyplot as plt\n",
    "from matplotlib.colors import ListedColormap\n",
    "import matplotlib.patches as mpatches\n",
    "from sklearn import svm\n",
    "from sklearn.svm import SVC\n",
    "from sklearn.model_selection import train_test_split\n",
    "from sklearn.metrics import accuracy_score\n",
    "from sklearn.metrics import classification_report\n",
    "from sklearn.metrics import confusion_matrix\n",
    "from sklearn.model_selection import GridSearchCV\n",
    "import seaborn as sns\n",
    "from plotly.offline import download_plotlyjs, init_notebook_mode, iplot\n",
    "import plotly.graph_objs as go\n",
    "import joblib "
   ]
  },
  {
   "cell_type": "code",
   "execution_count": 2,
   "id": "spoken-miami",
   "metadata": {},
   "outputs": [],
   "source": [
    "df_train = pd.read_csv(\"statistics_10_train.csv\" , sep = ',')\n",
    "df_test = pd.read_csv(\"statistics_10_test.csv\" , sep = ',')"
   ]
  },
  {
   "cell_type": "code",
   "execution_count": 3,
   "id": "diverse-affair",
   "metadata": {},
   "outputs": [],
   "source": [
    "X_train = df_train[['Kurtosis', 'Impulse factor', 'RMS', 'Margin factor', 'Skewness',\n",
    "               'Shape factor', 'Peak to peak', 'Crest factor']].values\n",
    "y_train = df_train['Tipo'].values\n",
    "X_test = df_test[['Kurtosis', 'Impulse factor', 'RMS', 'Margin factor', 'Skewness',\n",
    "               'Shape factor', 'Peak to peak', 'Crest factor']].values\n",
    "y_test = df_test['Tipo'].values"
   ]
  },
  {
   "cell_type": "markdown",
   "id": "amazing-democrat",
   "metadata": {},
   "source": [
    "#### We trained an SVM on the training data. We search for optimal parameters using GridSearchCV."
   ]
  },
  {
   "cell_type": "code",
   "execution_count": 4,
   "id": "premier-adobe",
   "metadata": {},
   "outputs": [
    {
     "name": "stdout",
     "output_type": "stream",
     "text": [
      "Fitting the classifier to the training set...\n",
      "Elapsed time: 0.249s\n",
      "Best estimator found by grid search:\n",
      "{'C': 500.0, 'gamma': 0.01}\n"
     ]
    }
   ],
   "source": [
    "from time import time\n",
    "\n",
    "t0 = time()\n",
    "print(\"Fitting the classifier to the training set...\")\n",
    "param_grid = {'C': [1E2, 5E2, 1E3, 5E3, 1E4],\n",
    "              'gamma': [0.0001, 0.0005, 0.001, 0.005, 0.01, 0.1], }\n",
    "grid = GridSearchCV(SVC(kernel='rbf', class_weight='balanced'), param_grid, cv=3)\n",
    "grid.fit(X_train, y_train)\n",
    "clf = grid.best_estimator_\n",
    "\n",
    "print(\"Elapsed time: %0.3fs\"%(time() - t0))\n",
    "print(\"Best estimator found by grid search:\")\n",
    "print(grid.best_params_)"
   ]
  },
  {
   "cell_type": "markdown",
   "id": "pressed-timer",
   "metadata": {},
   "source": [
    "#### We predict in the test and report the classification results obtained:"
   ]
  },
  {
   "cell_type": "code",
   "execution_count": 5,
   "id": "informational-property",
   "metadata": {},
   "outputs": [],
   "source": [
    "y_pred = clf.predict(X_test)"
   ]
  },
  {
   "cell_type": "code",
   "execution_count": 6,
   "id": "fifty-college",
   "metadata": {},
   "outputs": [
    {
     "name": "stdout",
     "output_type": "stream",
     "text": [
      "              precision    recall  f1-score   support\n",
      "\n",
      "       Inner       0.97      1.00      0.98        30\n",
      "       Outer       0.93      0.93      0.93        30\n",
      "     Healthy       0.97      0.93      0.95        30\n",
      "\n",
      "    accuracy                           0.96        90\n",
      "   macro avg       0.96      0.96      0.96        90\n",
      "weighted avg       0.96      0.96      0.96        90\n",
      "\n"
     ]
    }
   ],
   "source": [
    "target_names = ['Inner', 'Outer', 'Healthy']\n",
    "print(classification_report(y_test, y_pred, target_names = target_names))"
   ]
  },
  {
   "cell_type": "code",
   "execution_count": 7,
   "id": "productive-douglas",
   "metadata": {},
   "outputs": [
    {
     "name": "stdout",
     "output_type": "stream",
     "text": [
      "[[30  0  0]\n",
      " [ 1 28  1]\n",
      " [ 0  2 28]]\n"
     ]
    }
   ],
   "source": [
    "print(confusion_matrix(y_test, y_pred))"
   ]
  },
  {
   "cell_type": "code",
   "execution_count": 8,
   "id": "burning-surface",
   "metadata": {},
   "outputs": [
    {
     "name": "stdout",
     "output_type": "stream",
     "text": [
      "              precision    recall  f1-score   support\n",
      "\n",
      "       Inner       1.00      1.00      1.00        90\n",
      "       Outer       1.00      1.00      1.00        90\n",
      "     Healthy       1.00      1.00      1.00        90\n",
      "\n",
      "    accuracy                           1.00       270\n",
      "   macro avg       1.00      1.00      1.00       270\n",
      "weighted avg       1.00      1.00      1.00       270\n",
      "\n"
     ]
    }
   ],
   "source": [
    "pred_train = clf.predict(X_train)\n",
    "print(classification_report(y_train, pred_train, target_names = target_names))"
   ]
  },
  {
   "cell_type": "code",
   "execution_count": 9,
   "id": "municipal-amplifier",
   "metadata": {},
   "outputs": [
    {
     "name": "stdout",
     "output_type": "stream",
     "text": [
      "[[90  0  0]\n",
      " [ 0 90  0]\n",
      " [ 0  0 90]]\n"
     ]
    }
   ],
   "source": [
    "print(confusion_matrix(y_train, pred_train))"
   ]
  },
  {
   "cell_type": "code",
   "execution_count": 10,
   "id": "variable-annex",
   "metadata": {},
   "outputs": [
    {
     "data": {
      "image/png": "[encoded data removed]",
      "text/plain": [
       "<Figure size 504x432 with 1 Axes>"
      ]
     },
     "metadata": {},
     "output_type": "display_data"
    }
   ],
   "source": [
    "sns.set()\n",
    "mat = confusion_matrix(y_test, y_pred)\n",
    "fig, ax = plt.subplots(figsize=(7,6))\n",
    "sns.set(font_scale=1.3)\n",
    "sns.heatmap(mat.T, square=False, annot=True, fmt='d', cbar=False,\n",
    "            xticklabels=['Fallo inner race', 'Fallo oute race', 'Healthy'],\n",
    "            yticklabels=['Fallo inner race', 'Fallo oute race', 'Healthy'],\n",
    "            cmap=sns.cubehelix_palette(light=1, as_cmap=True))\n",
    "\n",
    "plt.xlabel('true label');\n",
    "plt.ylabel('predicted label');"
   ]
  },
  {
   "cell_type": "code",
   "execution_count": 11,
   "id": "satellite-bacon",
   "metadata": {},
   "outputs": [
    {
     "data": {
      "text/plain": [
       "['svm_traintest_trained.pkl']"
      ]
     },
     "execution_count": 11,
     "metadata": {},
     "output_type": "execute_result"
    }
   ],
   "source": [
    "joblib.dump(clf, 'svm_traintest_trained.pkl') "
   ]
  }
 ],
 "metadata": {
  "kernelspec": {
   "display_name": "Python 3",
   "language": "python",
   "name": "python3"
  },
  "language_info": {
   "codemirror_mode": {
    "name": "ipython",
    "version": 3
   },
   "file_extension": ".py",
   "mimetype": "text/x-python",
   "name": "python",
   "nbconvert_exporter": "python",
   "pygments_lexer": "ipython3",
   "version": "3.8.5"
  }
 },
 "nbformat": 4,
 "nbformat_minor": 5
}
