{
 "cells": [
  {
   "cell_type": "code",
   "execution_count": 1,
   "id": "periodic-yield",
   "metadata": {},
   "outputs": [],
   "source": [
    "import pandas as pd\n",
    "import numpy as np\n",
    "import matplotlib.pyplot as plt\n",
    "import seaborn as sns\n",
    "from matplotlib.colors import ListedColormap\n",
    "import matplotlib.patches as mpatches\n",
    "from sklearn.ensemble import AdaBoostClassifier\n",
    "from sklearn.ensemble import RandomForestClassifier\n",
    "from sklearn.metrics import classification_report\n",
    "from sklearn.metrics import confusion_matrix\n",
    "from sklearn import tree\n",
    "import joblib "
   ]
  },
  {
   "cell_type": "code",
   "execution_count": 2,
   "id": "variable-stage",
   "metadata": {},
   "outputs": [],
   "source": [
    "df_train = pd.read_csv(\"statistics_10_train.csv\" , sep = ',')\n",
    "df_test = pd.read_csv(\"statistics_10_test.csv\" , sep = ',')"
   ]
  },
  {
   "cell_type": "code",
   "execution_count": 3,
   "id": "negative-natural",
   "metadata": {},
   "outputs": [],
   "source": [
    "X_train = df_train[['Kurtosis', 'Impulse factor', 'RMS', 'Margin factor', 'Skewness',\n",
    "               'Shape factor', 'Peak to peak', 'Crest factor']].values\n",
    "y_train = df_train['Tipo'].values\n",
    "X_test = df_test[['Kurtosis', 'Impulse factor', 'RMS', 'Margin factor', 'Skewness',\n",
    "               'Shape factor', 'Peak to peak', 'Crest factor']].values\n",
    "y_test = df_test['Tipo'].values"
   ]
  },
  {
   "cell_type": "code",
   "execution_count": 4,
   "id": "interim-husband",
   "metadata": {},
   "outputs": [
    {
     "name": "stdout",
     "output_type": "stream",
     "text": [
      "----- n estimators: 10----- Accuracy test: 0.9444444444444444-----\n",
      "----- n estimators: 20----- Accuracy test: 0.9444444444444444-----\n",
      "----- n estimators: 30----- Accuracy test: 0.9444444444444444-----\n",
      "----- n estimators: 40----- Accuracy test: 0.9444444444444444-----\n",
      "----- n estimators: 50----- Accuracy test: 0.9444444444444444-----\n",
      "----- n estimators: 60----- Accuracy test: 0.9444444444444444-----\n",
      "----- n estimators: 70----- Accuracy test: 0.9333333333333333-----\n",
      "----- n estimators: 80----- Accuracy test: 0.9444444444444444-----\n",
      "----- n estimators: 90----- Accuracy test: 0.9444444444444444-----\n",
      "----- n estimators: 100----- Accuracy test: 0.9444444444444444-----\n",
      "----- n estimators: 110----- Accuracy test: 0.9444444444444444-----\n",
      "----- n estimators: 120----- Accuracy test: 0.9444444444444444-----\n",
      "----- n estimators: 130----- Accuracy test: 0.9444444444444444-----\n",
      "----- n estimators: 140----- Accuracy test: 0.9444444444444444-----\n"
     ]
    },
    {
     "data": {
      "text/plain": [
       "<matplotlib.legend.Legend at 0x136c9402ee0>"
      ]
     },
     "execution_count": 4,
     "metadata": {},
     "output_type": "execute_result"
    },
    {
     "data": {
      "image/png": "[encoded data removed]",
      "text/plain": [
       "<Figure size 432x288 with 1 Axes>"
      ]
     },
     "metadata": {
      "needs_background": "light"
     },
     "output_type": "display_data"
    }
   ],
   "source": [
    "n_estimators = range(1,150)\n",
    "scores_train = []\n",
    "scores_test = []\n",
    "for i in n_estimators:\n",
    "    abModel = AdaBoostClassifier(base_estimator = RandomForestClassifier(), n_estimators = i, learning_rate = 0.1)\n",
    "    abModel.fit(X_train, y_train)\n",
    "    scores_train.append(abModel.score(X_train, y_train))\n",
    "    scores_test.append(abModel.score(X_test, y_test))\n",
    "    if (i % 10 == 0):\n",
    "        print('----- n estimators: ' + str(i) + '----- Accuracy test: ' + str(scores_test[i - 1]) + '-----')\n",
    "plt.figure()\n",
    "plt.xlabel('n_estimators')\n",
    "plt.ylabel('Accuracy')\n",
    "plt.plot(n_estimators, scores_train, label = 'Train')\n",
    "plt.plot(n_estimators, scores_test, label = 'Test')\n",
    "plt.legend()"
   ]
  },
  {
   "cell_type": "code",
   "execution_count": 5,
   "id": "bizarre-sherman",
   "metadata": {},
   "outputs": [
    {
     "data": {
      "text/plain": [
       "range(1, 150)"
      ]
     },
     "execution_count": 5,
     "metadata": {},
     "output_type": "execute_result"
    }
   ],
   "source": [
    "n_estimators"
   ]
  },
  {
   "cell_type": "code",
   "execution_count": 6,
   "id": "antique-school",
   "metadata": {},
   "outputs": [],
   "source": [
    "abModel = AdaBoostClassifier(RandomForestClassifier(n_estimators = 90, min_samples_split = 2, min_samples_leaf  = 1),\n",
    "                             n_estimators = 125, random_state=0)\n",
    "abModel.fit(X_train, y_train)\n",
    "pred_abModel = abModel.predict(X_test)"
   ]
  },
  {
   "cell_type": "code",
   "execution_count": 7,
   "id": "minus-slope",
   "metadata": {},
   "outputs": [
    {
     "name": "stdout",
     "output_type": "stream",
     "text": [
      "[[90  0  0]\n",
      " [ 0 90  0]\n",
      " [ 0  0 90]]\n",
      "              precision    recall  f1-score   support\n",
      "\n",
      "       Inner       1.00      1.00      1.00        90\n",
      "       Outer       1.00      1.00      1.00        90\n",
      "        Sano       1.00      1.00      1.00        90\n",
      "\n",
      "    accuracy                           1.00       270\n",
      "   macro avg       1.00      1.00      1.00       270\n",
      "weighted avg       1.00      1.00      1.00       270\n",
      "\n"
     ]
    }
   ],
   "source": [
    "pred_train_abModel = abModel.predict(X_train)\n",
    "print(confusion_matrix(y_train, pred_train_abModel))\n",
    "print(classification_report(y_train, pred_train_abModel))"
   ]
  },
  {
   "cell_type": "code",
   "execution_count": 8,
   "id": "qualified-equity",
   "metadata": {},
   "outputs": [
    {
     "name": "stdout",
     "output_type": "stream",
     "text": [
      "[[28  2  0]\n",
      " [ 0 30  0]\n",
      " [ 0  3 27]]\n",
      "              precision    recall  f1-score   support\n",
      "\n",
      "       Inner       1.00      0.93      0.97        30\n",
      "       Outer       0.86      1.00      0.92        30\n",
      "        Sano       1.00      0.90      0.95        30\n",
      "\n",
      "    accuracy                           0.94        90\n",
      "   macro avg       0.95      0.94      0.95        90\n",
      "weighted avg       0.95      0.94      0.95        90\n",
      "\n"
     ]
    }
   ],
   "source": [
    "print(confusion_matrix(y_test, pred_abModel))\n",
    "print(classification_report(y_test, pred_abModel))"
   ]
  },
  {
   "cell_type": "code",
   "execution_count": 9,
   "id": "worst-prison",
   "metadata": {},
   "outputs": [
    {
     "data": {
      "image/png": "[encoded data removed]",
      "text/plain": [
       "<Figure size 504x432 with 1 Axes>"
      ]
     },
     "metadata": {},
     "output_type": "display_data"
    }
   ],
   "source": [
    "sns.set()\n",
    "mat = confusion_matrix(y_test, pred_abModel)\n",
    "fig, ax = plt.subplots(figsize=(7,6))\n",
    "sns.set(font_scale=1.3)\n",
    "sns.heatmap(mat.T, square=False, annot=True, fmt='d', cbar=False,\n",
    "            xticklabels=['Fallo inner race', 'Fallo oute race', 'Sano'],\n",
    "            yticklabels=['Fallo inner race', 'Fallo oute race', 'Sano'],\n",
    "            cmap=sns.cubehelix_palette(light=1, as_cmap=True))\n",
    "\n",
    "plt.xlabel('true label');\n",
    "plt.ylabel('predicted label');"
   ]
  },
  {
   "cell_type": "code",
   "execution_count": 10,
   "id": "funded-footwear",
   "metadata": {},
   "outputs": [
    {
     "data": {
      "image/png": "[encoded data removed]",
      "text/plain": [
       "<Figure size 504x432 with 1 Axes>"
      ]
     },
     "metadata": {},
     "output_type": "display_data"
    }
   ],
   "source": [
    "sns.set()\n",
    "mat = confusion_matrix(y_train, abModel.predict(X_train))\n",
    "fig, ax = plt.subplots(figsize=(7,6))\n",
    "sns.set(font_scale=1.3)\n",
    "sns.heatmap(mat.T, square=False, annot=True, fmt='d', cbar=False,\n",
    "            xticklabels=['Fallo inner race', 'Fallo oute race', 'Sano'],\n",
    "            yticklabels=['Fallo inner race', 'Fallo oute race', 'Sano'],\n",
    "            cmap=sns.cubehelix_palette(light=1, as_cmap=True))\n",
    "\n",
    "plt.xlabel('true label');\n",
    "plt.ylabel('predicted label');"
   ]
  }
 ],
 "metadata": {
  "kernelspec": {
   "display_name": "Python 3",
   "language": "python",
   "name": "python3"
  },
  "language_info": {
   "codemirror_mode": {
    "name": "ipython",
    "version": 3
   },
   "file_extension": ".py",
   "mimetype": "text/x-python",
   "name": "python",
   "nbconvert_exporter": "python",
   "pygments_lexer": "ipython3",
   "version": "3.8.5"
  }
 },
 "nbformat": 4,
 "nbformat_minor": 5
}
